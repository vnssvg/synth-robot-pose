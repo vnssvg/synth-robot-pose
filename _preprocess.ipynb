{
 "cells": [
  {
   "cell_type": "markdown",
   "id": "3b8c2643-46d9-4525-9053-d8f5b08940f0",
   "metadata": {},
   "source": [
    "### Set-up for preprocessing stage "
   ]
  },
  {
   "cell_type": "code",
   "execution_count": null,
   "id": "e7c175fe-f135-45d3-afda-5e8257361032",
   "metadata": {},
   "outputs": [],
   "source": [
    "# Import some common libraries\n",
    "import torch\n",
    "import numpy as np\n",
    "import os, json, random, cv2\n",
    "\n",
    "# Setup detectron2 \n",
    "import detectron2\n",
    "from detectron2.structures import BoxMode"
   ]
  },
  {
   "cell_type": "code",
   "execution_count": null,
   "id": "56b6b284-7cb4-44e5-ae35-2589456917b6",
   "metadata": {
    "tags": []
   },
   "outputs": [],
   "source": [
    "# Unpack zipped dataset folder\n",
    "# !unzip ~/share/datasets/robot_arm_box_minecraft++.zip -d ~/share"
   ]
  },
  {
   "cell_type": "markdown",
   "id": "53902c40-78b7-48c6-b863-03e9b9d90faf",
   "metadata": {
    "tags": []
   },
   "source": [
    "### Parse custom synth dataset into detectron2's standard format"
   ]
  },
  {
   "cell_type": "code",
   "execution_count": null,
   "id": "3874a4f3-dbfa-4c85-ab38-afe5996509e0",
   "metadata": {},
   "outputs": [],
   "source": [
    "dataset_folder = \"robot_arm_box_small_minecraft++\"\n",
    "PATH_DATASET = \"./datasets\" + \"/\" + dataset_folder"
   ]
  },
  {
   "cell_type": "code",
   "execution_count": null,
   "id": "0863f1ea-5ec6-49b8-9bb3-a9e7d0ba2dc1",
   "metadata": {},
   "outputs": [],
   "source": [
    "# Collect json files into a list, as there can be multiple captures files\n",
    "def collect_json_captures(dataset_path):\n",
    "    json_captures = []\n",
    "    json_captures_path = os.path.join(dataset_path, \"annotations\")\n",
    "    for file in os.listdir(json_captures_path):\n",
    "        if \"captures\" in file:\n",
    "            json_captures.append(os.path.join(json_captures_path, file))\n",
    "\n",
    "    return json_captures"
   ]
  },
  {
   "cell_type": "code",
   "execution_count": null,
   "id": "f4e07742-60b7-462d-a206-5727f9dddbbb",
   "metadata": {
    "tags": []
   },
   "outputs": [
    {
     "data": {
      "text/plain": [
       "['./datasets/robot_arm_box_small_minecraft++/train/annotations/captures_000.json',\n",
       " './datasets/robot_arm_box_small_minecraft++/train/annotations/captures_001.json',\n",
       " './datasets/robot_arm_box_small_minecraft++/train/annotations/captures_002.json',\n",
       " './datasets/robot_arm_box_small_minecraft++/train/annotations/captures_003.json',\n",
       " './datasets/robot_arm_box_small_minecraft++/train/annotations/captures_004.json',\n",
       " './datasets/robot_arm_box_small_minecraft++/train/annotations/captures_005.json']"
      ]
     },
     "execution_count": 5,
     "metadata": {},
     "output_type": "execute_result"
    }
   ],
   "source": [
    "collect_json_captures(PATH_DATASET + \"/train\")"
   ]
  },
  {
   "cell_type": "code",
   "execution_count": null,
   "id": "635e099e-80b6-448d-8cb8-1fc839a57869",
   "metadata": {
    "tags": []
   },
   "outputs": [],
   "source": [
    "def parse_dataset(dataset_path):\n",
    "    img_path = os.path.join(dataset_path, \"images\")\n",
    "    json_files = collect_json_captures(dataset_path)\n",
    "    dataset_dicts = []\n",
    "\n",
    "    for file in json_files:\n",
    "\n",
    "        with open(file) as f:\n",
    "            img_anns = json.load(f)\n",
    "\n",
    "            for idx, v in enumerate(img_anns[\"captures\"]):\n",
    "                record = {}\n",
    "\n",
    "                filename_full = v[\"filename\"]\n",
    "                filename = filename_full.split(\"/\")[1]\n",
    "                height, width = cv2.imread(img_path + \"/\" + filename).shape[:2]\n",
    "                id = idx\n",
    "\n",
    "                record[\"file_name\"] = img_path + \"/\" + filename\n",
    "                record[\"image_id\"] = id\n",
    "                record[\"height\"] = height\n",
    "                record[\"width\"] = width\n",
    "\n",
    "                annos = v[\"annotations\"]\n",
    "                obj_robot = {}\n",
    "                obj_box = {}\n",
    "                objs = []\n",
    "                kps_robot = []\n",
    "                kps_box = []\n",
    "\n",
    "                for anno in annos:\n",
    "\n",
    "                    for val in anno[\"values\"]:\n",
    "                        if val[\"label_id\"] == 2: # robot_arm instance\n",
    "                            if \"label_name\" in val:\n",
    "                                bbox_robot = [val[\"x\"], val[\"y\"], val[\"width\"], val[\"height\"]]\n",
    "\n",
    "                            else:\n",
    "                                for kp in val[\"keypoints\"][:8]:\n",
    "                                    kpX = kp[\"x\"]\n",
    "                                    kpY = kp[\"y\"]\n",
    "                                    v = kp [\"state\"]\n",
    "                                    kps_robot.append(kpX)\n",
    "                                    kps_robot.append(kpY)\n",
    "                                    kps_robot.append(v)\n",
    "\n",
    "                                obj_robot = {\n",
    "                                        \"bbox\": bbox_robot,\n",
    "                                        \"bbox_mode\": BoxMode.XYWH_ABS,\n",
    "                                        \"category_id\": 0,\n",
    "                                        \"keypoints\": kps_robot,\n",
    "                                }\n",
    "\n",
    "                        if val[\"label_id\"] == 1: # box instance\n",
    "                            if \"label_name\" in val:\n",
    "                                bbox_box = [val[\"x\"], val[\"y\"], val[\"width\"], val[\"height\"]]\n",
    "\n",
    "                            else:\n",
    "                                for kp in val[\"keypoints\"][:8]:\n",
    "                                    kpX = kp[\"x\"]\n",
    "                                    kpY = kp[\"y\"]\n",
    "                                    v = kp [\"state\"]\n",
    "                                    kps_box.append(kpX)\n",
    "                                    kps_box.append(kpY)\n",
    "                                    kps_box.append(v)\n",
    "\n",
    "                                obj_box = {\n",
    "                                        \"bbox\": bbox_box,\n",
    "                                        \"bbox_mode\": BoxMode.XYWH_ABS,\n",
    "                                        \"category_id\": 1,\n",
    "                                        \"keypoints\": kps_box,\n",
    "                                }\n",
    "\n",
    "                    objs.append(obj_robot) if len(obj_robot)> 0 else None\n",
    "                    objs.append(obj_box) if len(obj_box) > 0 else None\n",
    "\n",
    "                record[\"annotations\"] = objs\n",
    "                dataset_dicts.append(record)\n",
    "\n",
    "    return dataset_dicts"
   ]
  },
  {
   "cell_type": "code",
   "execution_count": null,
   "id": "cc053508-26d0-4672-8970-2025992ea063",
   "metadata": {
    "tags": []
   },
   "outputs": [
    {
     "data": {
      "text/plain": [
       "{'file_name': './datasets/robot_arm_box_small_minecraft++/val/images/rgb_2.png',\n",
       " 'image_id': 0,\n",
       " 'height': 400,\n",
       " 'width': 650,\n",
       " 'annotations': [{'bbox': [370.0, 120.0, 130.0, 179.0],\n",
       "   'bbox_mode': <BoxMode.XYWH_ABS: 1>,\n",
       "   'category_id': 0,\n",
       "   'keypoints': [410.0599060058594,\n",
       "    200.3362579345703,\n",
       "    2,\n",
       "    438.17596435546875,\n",
       "    149.97398376464844,\n",
       "    2,\n",
       "    470.6190490722656,\n",
       "    235.2589874267578,\n",
       "    2,\n",
       "    452.725830078125,\n",
       "    277.7138366699219,\n",
       "    2,\n",
       "    0.0,\n",
       "    0.0,\n",
       "    0,\n",
       "    0.0,\n",
       "    0.0,\n",
       "    0,\n",
       "    0.0,\n",
       "    0.0,\n",
       "    0,\n",
       "    0.0,\n",
       "    0.0,\n",
       "    0]},\n",
       "  {'bbox': [112.0, 146.0, 73.0, 75.0],\n",
       "   'bbox_mode': <BoxMode.XYWH_ABS: 1>,\n",
       "   'category_id': 1,\n",
       "   'keypoints': [0.0,\n",
       "    0.0,\n",
       "    0,\n",
       "    0.0,\n",
       "    0.0,\n",
       "    0,\n",
       "    0.0,\n",
       "    0.0,\n",
       "    0,\n",
       "    0.0,\n",
       "    0.0,\n",
       "    0,\n",
       "    181.7122344970703,\n",
       "    149.6772003173828,\n",
       "    2,\n",
       "    130.86744689941406,\n",
       "    146.66986083984375,\n",
       "    2,\n",
       "    165.5909881591797,\n",
       "    171.12167358398438,\n",
       "    2,\n",
       "    112.10213470458984,\n",
       "    167.77565002441406,\n",
       "    2]}]}"
      ]
     },
     "execution_count": 7,
     "metadata": {},
     "output_type": "execute_result"
    }
   ],
   "source": [
    "# Print single entry of synth dataset_dict\n",
    "parse_dataset(PATH_DATASET + \"/val\")[0]"
   ]
  },
  {
   "cell_type": "code",
   "execution_count": null,
   "id": "fb16ce12-bf1f-4988-a823-5ed6a2e71041",
   "metadata": {},
   "outputs": [],
   "source": [
    "# Serialize dataset_dicts into json-files\n",
    "for d in [\"train\", \"test\", \"val\"]:\n",
    "    with open(\"dataset_dict_\" + d + \".json\", \"w\", encoding=\"utf-8\") as f: \n",
    "        json.dump(parse_dataset(PATH_DATASET + \"/\" + d), f, ensure_ascii=False, indent=4)"
   ]
  },
  {
   "cell_type": "markdown",
   "id": "9acea393-b7b4-4886-a825-2ead09d3fb9c",
   "metadata": {
    "tags": []
   },
   "source": [
    "### Parse custom real dataset into detectron2's standard format"
   ]
  },
  {
   "cell_type": "code",
   "execution_count": null,
   "id": "67f04ed9-f55c-41c3-9ebd-a34f7ee42813",
   "metadata": {},
   "outputs": [],
   "source": [
    "def parse_real_dataset(dataset_path, coco_json):\n",
    "    img_path = os.path.join(dataset_path, \"resized\")\n",
    "    json_file = os.path.join(dataset_path, coco_json)\n",
    "    dataset_dicts = []\n",
    "\n",
    "    with open(json_file) as f:\n",
    "        coco_anns = json.load(f)\n",
    "        \n",
    "        for idx in range(len(coco_anns[\"images\"])):\n",
    "            record = {}\n",
    "            file_path = \"\"\n",
    "            objs = []\n",
    "            obj_robot = obj_box = {}\n",
    "            kps_robot = kps_box = []\n",
    "            bbox_robot = bbox_box = []\n",
    "            \n",
    "            for k, v in coco_anns[\"images\"][idx].items():\n",
    "                file_path = v if k == \"path\" else file_path\n",
    "                \n",
    "            filename = file_path.split(\"/\")[3]\n",
    "            height, width = cv2.imread(img_path + \"/\" + filename).shape[:2]\n",
    "            id = idx\n",
    "\n",
    "            record[\"file_name\"] = img_path + \"/\" + filename\n",
    "            record[\"image_id\"] = id\n",
    "            record[\"height\"] = height\n",
    "            record[\"width\"] = width\n",
    "            \n",
    "            # Other than \"images\" key, \"annotations\" has 40 values (one for each class in each image)\n",
    "            # \"annotations\" entry[0]: robot_arm, [1]: box, [2]: robot_arm, [3]: box, ...\n",
    "            for k, v in coco_anns[\"annotations\"][idx*2].items():\n",
    "                kps_robot = v if k == \"keypoints\" else kps_robot\n",
    "                bbox_robot = v if k == \"bbox\" else bbox_robot\n",
    "            obj_robot = {\n",
    "                    \"bbox\": bbox_robot,\n",
    "                    \"bbox_mode\": BoxMode.XYWH_ABS,\n",
    "                    \"category_id\": 0,\n",
    "                    \"keypoints\": kps_robot,\n",
    "            }    \n",
    "            \n",
    "            for k, v in coco_anns[\"annotations\"][idx*2+1].items():\n",
    "                kps_box = v if k == \"keypoints\" else kps_box\n",
    "                bbox_box = v if k == \"bbox\" else bbox_box\n",
    "            obj_box = {\n",
    "                    \"bbox\": bbox_box,\n",
    "                    \"bbox_mode\": BoxMode.XYWH_ABS,\n",
    "                    \"category_id\": 1,\n",
    "                    \"keypoints\": kps_box,\n",
    "            }    \n",
    "            objs.append(obj_robot)\n",
    "            objs.append(obj_box)\n",
    "\n",
    "            record[\"annotations\"] = objs\n",
    "            dataset_dicts.append(record)\n",
    "\n",
    "    return dataset_dicts"
   ]
  },
  {
   "cell_type": "code",
   "execution_count": null,
   "id": "739bc453-f421-4902-8993-b63abf215eaf",
   "metadata": {
    "tags": []
   },
   "outputs": [
    {
     "data": {
      "text/plain": [
       "{'file_name': './datasets/real_test/resized/resized_img_real_1.jpg',\n",
       " 'image_id': 0,\n",
       " 'height': 400,\n",
       " 'width': 650,\n",
       " 'annotations': [{'bbox': [195, 79, 276, 247],\n",
       "   'bbox_mode': <BoxMode.XYWH_ABS: 1>,\n",
       "   'category_id': 0,\n",
       "   'keypoints': [386,\n",
       "    263,\n",
       "    2,\n",
       "    320,\n",
       "    153,\n",
       "    2,\n",
       "    216,\n",
       "    114,\n",
       "    2,\n",
       "    231,\n",
       "    195,\n",
       "    2,\n",
       "    0,\n",
       "    0,\n",
       "    0,\n",
       "    0,\n",
       "    0,\n",
       "    0,\n",
       "    0,\n",
       "    0,\n",
       "    0,\n",
       "    0,\n",
       "    0,\n",
       "    0]},\n",
       "  {'bbox': [382, 172, 79, 93],\n",
       "   'bbox_mode': <BoxMode.XYWH_ABS: 1>,\n",
       "   'category_id': 1,\n",
       "   'keypoints': [0,\n",
       "    0,\n",
       "    0,\n",
       "    0,\n",
       "    0,\n",
       "    0,\n",
       "    0,\n",
       "    0,\n",
       "    0,\n",
       "    0,\n",
       "    0,\n",
       "    0,\n",
       "    440,\n",
       "    217,\n",
       "    2,\n",
       "    458,\n",
       "    188,\n",
       "    2,\n",
       "    385,\n",
       "    201,\n",
       "    2,\n",
       "    408,\n",
       "    174,\n",
       "    2]}]}"
      ]
     },
     "execution_count": 5,
     "metadata": {},
     "output_type": "execute_result"
    }
   ],
   "source": [
    "# Print single entry of real dataset_dict\n",
    "PATH_REAL = \"./datasets/real_test\"\n",
    "coco_json = \"coco-annotations_150.json\"\n",
    "parse_real_dataset(PATH_REAL, coco_json)[0]"
   ]
  },
  {
   "cell_type": "code",
   "execution_count": null,
   "id": "cbe3ddae-cc69-4a1c-ab93-3e8ab0bd9453",
   "metadata": {},
   "outputs": [],
   "source": [
    "# Serialize dataset_dict into json-files\n",
    "with open(\"dataset_dict_real.json\", \"w\", encoding=\"utf-8\") as f: \n",
    "    json.dump(parse_real_dataset(PATH_REAL, coco_json), f, ensure_ascii=False, indent=4)"
   ]
  },
  {
   "cell_type": "code",
   "execution_count": null,
   "id": "0638df52-fad3-4882-93f0-07e62f8ca5e1",
   "metadata": {},
   "outputs": [],
   "source": []
  }
 ],
 "metadata": {
  "kernelspec": {
   "display_name": "d2",
   "language": "python",
   "name": "d2"
  },
  "language_info": {
   "codemirror_mode": {
    "name": "ipython",
    "version": 3
   },
   "file_extension": ".py",
   "mimetype": "text/x-python",
   "name": "python",
   "nbconvert_exporter": "python",
   "pygments_lexer": "ipython3",
   "version": "3.7.12"
  }
 },
 "nbformat": 4,
 "nbformat_minor": 5
}
